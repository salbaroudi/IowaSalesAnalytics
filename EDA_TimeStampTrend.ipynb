{
 "cells": [
  {
   "cell_type": "code",
   "execution_count": 2,
   "metadata": {},
   "outputs": [],
   "source": [
    "#Standard Imports:\n",
    "import pandas as pd\n",
    "import numpy as np\n",
    "import altair as alt\n",
    "import matplotlib.pyplot as plt\n",
    "from IPython.core.interactiveshell import InteractiveShell\n",
    "InteractiveShell.ast_node_interactivity = \"all\"\n",
    "alt.renderers.enable('notebook')\n",
    "alt.data_transformers.enable('default', max_rows=None)\n",
    "%matplotlib inline \n",
    "pd.set_option('display.max_rows', 100)\n",
    "pd.set_option('display.max_columns', 40)\n",
    "pd.set_option('display.width', 1000)"
   ]
  },
  {
   "cell_type": "code",
   "execution_count": 3,
   "metadata": {},
   "outputs": [],
   "source": [
    "#Locations\n",
    "inputDir=\"./data/stage2/\"\n",
    "saveDir=\"./data/summaryEDA/\""
   ]
  },
  {
   "cell_type": "code",
   "execution_count": 4,
   "metadata": {},
   "outputs": [],
   "source": [
    "#Load the dataset: \n",
    "ilsDF = pd.read_csv(\"./data/stage1/ILS_clean.csv\")\n"
   ]
  },
  {
   "cell_type": "markdown",
   "metadata": {},
   "source": [
    "### Trend Lines and Distributions:\n",
    "\n",
    "**What are the total Sales per month, for each year?**\n",
    "\n",
    "For this, lets parse the transaction dates, and aggregate them per week, month and date to get three different time series."
   ]
  },
  {
   "cell_type": "code",
   "execution_count": 9,
   "metadata": {},
   "outputs": [],
   "source": [
    "ilsDF[\"date\"] = pd.to_datetime(arg=ilsDF[\"date\"], format=\"%m/%d/%Y\")\n"
   ]
  },
  {
   "cell_type": "markdown",
   "metadata": {},
   "source": [
    "We can see that the dates are not in in chronological order."
   ]
  },
  {
   "cell_type": "code",
   "execution_count": 11,
   "metadata": {},
   "outputs": [
    {
     "data": {
      "text/plain": [
       "0   2015-11-09\n",
       "1   2015-11-30\n",
       "2   2015-11-11\n",
       "3   2015-11-18\n",
       "4   2015-11-23\n",
       "Name: date, dtype: datetime64[ns]"
      ]
     },
     "execution_count": 11,
     "metadata": {},
     "output_type": "execute_result"
    }
   ],
   "source": [
    "ilsDF[\"date\"].head(5)"
   ]
  },
  {
   "cell_type": "code",
   "execution_count": 12,
   "metadata": {},
   "outputs": [],
   "source": [
    "#Sort the entire dataframe by dates:\n",
    "ilsDF.sort_values(by=\"date\",ascending=True,inplace=True)\n",
    "ilsDF.reset_index(drop=False, inplace=True)\n",
    "#ilsDF[\"date\"].head()"
   ]
  },
  {
   "cell_type": "code",
   "execution_count": 19,
   "metadata": {},
   "outputs": [],
   "source": []
  },
  {
   "cell_type": "code",
   "execution_count": 21,
   "metadata": {},
   "outputs": [
    {
     "data": {
      "text/plain": [
       "0    2012\n",
       "1    2012\n",
       "2    2012\n",
       "3    2012\n",
       "4    2012\n",
       "Name: year, dtype: int64"
      ]
     },
     "execution_count": 21,
     "metadata": {},
     "output_type": "execute_result"
    }
   ],
   "source": [
    "#How many datapoints do we have per year.\n",
    "\n",
    "#def extractyear(d):\n",
    " #   return d.year\n",
    "\n",
    "ilsDF[\"year\"] = ilsDF[\"date\"].apply(lambda x: x.year)\n",
    "ilsDF[\"year\"].head()"
   ]
  },
  {
   "cell_type": "code",
   "execution_count": 29,
   "metadata": {},
   "outputs": [
    {
     "name": "stdout",
     "output_type": "stream",
     "text": [
      "Year 2012 Number of Rows: 2076144\n",
      "Year 2013 Number of Rows: 2058679\n",
      "Year 2014 Number of Rows: 2093907\n",
      "Year 2015 Number of Rows: 2180184\n",
      "Year 2016 Number of Rows: 2204142\n",
      "Year 2017 Number of Rows: 1875854\n"
     ]
    }
   ],
   "source": [
    "#Lets get a summary of data points, per year\n",
    "\n",
    "yearGroup = ilsDF.groupby(\"year\")\n",
    "for key, subDF in yearGroup:\n",
    "    print(\"Year \" + str(key) + \" Number of Rows: \" + str(subDF[\"date\"].shape[0]))"
   ]
  },
  {
   "cell_type": "code",
   "execution_count": 31,
   "metadata": {},
   "outputs": [
    {
     "data": {
      "text/plain": [
       "12488909   2017-10-31\n",
       "Name: date, dtype: datetime64[ns]"
      ]
     },
     "execution_count": 31,
     "metadata": {},
     "output_type": "execute_result"
    }
   ],
   "source": [
    "#It looks like year 2017 might not terminate on the last row What is the last element of our sorted\n",
    "ilsDF[\"date\"].tail(1)\n",
    "#So the data doesn't go past Oct 31st!\n",
    "#2017 data can be used for predictions for regression (later)\n",
    "#2012-2016 can be used for our year over year trends."
   ]
  },
  {
   "cell_type": "code",
   "execution_count": 34,
   "metadata": {},
   "outputs": [],
   "source": [
    "#Lets calculate retail cost by adding a new column.\n",
    "\n",
    "ilsDF[\"totalstatecost\"] = ilsDF[\"bottlessold\"]*ilsDF[\"statebottlecost\"] \n"
   ]
  },
  {
   "cell_type": "code",
   "execution_count": 39,
   "metadata": {},
   "outputs": [
    {
     "data": {
      "text/plain": [
       "True"
      ]
     },
     "execution_count": 39,
     "metadata": {},
     "output_type": "execute_result"
    }
   ],
   "source": [
    "ilsDF[\"year\"].iloc[0] == 2012"
   ]
  },
  {
   "cell_type": "code",
   "execution_count": 42,
   "metadata": {},
   "outputs": [
    {
     "data": {
      "text/plain": [
       "(12488910, 3)"
      ]
     },
     "execution_count": 42,
     "metadata": {},
     "output_type": "execute_result"
    },
    {
     "data": {
      "text/plain": [
       "(4134823, 3)"
      ]
     },
     "execution_count": 42,
     "metadata": {},
     "output_type": "execute_result"
    }
   ],
   "source": [
    "#lets look at one time series (2012 and 2013) in tableau, and see if we can separate them in graphs.\n",
    "trendsDF = ilsDF[[\"date\",\"totalstatecost\",\"saleprice\"]]\n",
    "trendsDF.shape\n",
    "trendsDF = trendsDF[((ilsDF[\"year\"] == 2012) | (ilsDF[\"year\"] == 2013))]\n",
    "\n",
    "distDF.to_csv(saveDir+\"trendsDF.csv\",index_label=\"id\")"
   ]
  },
  {
   "cell_type": "code",
   "execution_count": 44,
   "metadata": {},
   "outputs": [],
   "source": [
    "trendsDF.to_csv(saveDir+\"trendsDF.csv\",index_label=\"id\")\n"
   ]
  },
  {
   "cell_type": "code",
   "execution_count": null,
   "metadata": {},
   "outputs": [],
   "source": []
  }
 ],
 "metadata": {
  "kernelspec": {
   "display_name": "Python 3",
   "language": "python",
   "name": "python3"
  },
  "language_info": {
   "codemirror_mode": {
    "name": "ipython",
    "version": 3
   },
   "file_extension": ".py",
   "mimetype": "text/x-python",
   "name": "python",
   "nbconvert_exporter": "python",
   "pygments_lexer": "ipython3",
   "version": "3.6.8"
  }
 },
 "nbformat": 4,
 "nbformat_minor": 2
}
